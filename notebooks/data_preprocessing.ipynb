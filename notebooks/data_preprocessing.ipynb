{
 "cells": [
  {
   "cell_type": "markdown",
   "metadata": {},
   "source": [
    "#### 1. Import libraries "
   ]
  },
  {
   "cell_type": "code",
   "execution_count": 1,
   "metadata": {},
   "outputs": [],
   "source": [
    "# Import libraries for data manipulation and analysis\n",
    "import pandas as pd\n",
    "import numpy as np\n",
    "\n",
    "# Import libraries for data visualization\n",
    "import matplotlib.pyplot as plt\n",
    "import seaborn as sns\n",
    "import plotly.express as px\n",
    "import nbformat\n",
    "from tabulate import tabulate\n",
    "\n",
    "# Import libraries for statistical analysis\n",
    "from scipy import stats\n",
    "\n",
    "# Import libraries for machine learning\n",
    "from sklearn.linear_model import LinearRegression\n",
    "\n",
    "# Set visualization styles \n",
    "sns.set(style=\"whitegrid\") \n",
    "plt.style.use('ggplot') # or use 'seaborn-dark'"
   ]
  },
  {
   "cell_type": "markdown",
   "metadata": {},
   "source": [
    "#### 2. Data Summarization"
   ]
  },
  {
   "cell_type": "code",
   "execution_count": 2,
   "metadata": {},
   "outputs": [
    {
     "name": "stderr",
     "output_type": "stream",
     "text": [
      "C:\\Users\\Abeni\\AppData\\Local\\Temp\\ipykernel_17176\\150208309.py:2: DtypeWarning: Columns (32,37) have mixed types. Specify dtype option on import or set low_memory=False.\n",
      "  data = pd.read_csv('../src/data/MachineLearningRating_v3.txt', delimiter='|')\n"
     ]
    },
    {
     "name": "stdout",
     "output_type": "stream",
     "text": [
      "Index(['UnderwrittenCoverID', 'PolicyID', 'TransactionMonth',\n",
      "       'IsVATRegistered', 'Citizenship', 'LegalType', 'Title', 'Language',\n",
      "       'Bank', 'AccountType', 'MaritalStatus', 'Gender', 'Country', 'Province',\n",
      "       'PostalCode', 'MainCrestaZone', 'SubCrestaZone', 'ItemType', 'mmcode',\n",
      "       'VehicleType', 'RegistrationYear', 'make', 'Model', 'Cylinders',\n",
      "       'cubiccapacity', 'kilowatts', 'bodytype', 'NumberOfDoors',\n",
      "       'VehicleIntroDate', 'CustomValueEstimate', 'AlarmImmobiliser',\n",
      "       'TrackingDevice', 'CapitalOutstanding', 'NewVehicle', 'WrittenOff',\n",
      "       'Rebuilt', 'Converted', 'CrossBorder', 'NumberOfVehiclesInFleet',\n",
      "       'SumInsured', 'TermFrequency', 'CalculatedPremiumPerTerm',\n",
      "       'ExcessSelected', 'CoverCategory', 'CoverType', 'CoverGroup', 'Section',\n",
      "       'Product', 'StatutoryClass', 'StatutoryRiskType', 'TotalPremium',\n",
      "       'TotalClaims'],\n",
      "      dtype='object')\n"
     ]
    }
   ],
   "source": [
    "# Load the data with the correct delimiter\n",
    "data = pd.read_csv('../src/data/MachineLearningRating_v3.txt', delimiter='|')\n",
    "\n",
    "# Display the column names\n",
    "print(data.columns)"
   ]
  },
  {
   "cell_type": "code",
   "execution_count": 3,
   "metadata": {},
   "outputs": [
    {
     "data": {
      "text/html": [
       "<div>\n",
       "<style scoped>\n",
       "    .dataframe tbody tr th:only-of-type {\n",
       "        vertical-align: middle;\n",
       "    }\n",
       "\n",
       "    .dataframe tbody tr th {\n",
       "        vertical-align: top;\n",
       "    }\n",
       "\n",
       "    .dataframe thead th {\n",
       "        text-align: right;\n",
       "    }\n",
       "</style>\n",
       "<table border=\"1\" class=\"dataframe\">\n",
       "  <thead>\n",
       "    <tr style=\"text-align: right;\">\n",
       "      <th></th>\n",
       "      <th>UnderwrittenCoverID</th>\n",
       "      <th>PolicyID</th>\n",
       "      <th>TransactionMonth</th>\n",
       "      <th>IsVATRegistered</th>\n",
       "      <th>Citizenship</th>\n",
       "      <th>LegalType</th>\n",
       "      <th>Title</th>\n",
       "      <th>Language</th>\n",
       "      <th>Bank</th>\n",
       "      <th>AccountType</th>\n",
       "      <th>...</th>\n",
       "      <th>ExcessSelected</th>\n",
       "      <th>CoverCategory</th>\n",
       "      <th>CoverType</th>\n",
       "      <th>CoverGroup</th>\n",
       "      <th>Section</th>\n",
       "      <th>Product</th>\n",
       "      <th>StatutoryClass</th>\n",
       "      <th>StatutoryRiskType</th>\n",
       "      <th>TotalPremium</th>\n",
       "      <th>TotalClaims</th>\n",
       "    </tr>\n",
       "  </thead>\n",
       "  <tbody>\n",
       "    <tr>\n",
       "      <th>0</th>\n",
       "      <td>145249</td>\n",
       "      <td>12827</td>\n",
       "      <td>2015-03-01 00:00:00</td>\n",
       "      <td>True</td>\n",
       "      <td></td>\n",
       "      <td>Close Corporation</td>\n",
       "      <td>Mr</td>\n",
       "      <td>English</td>\n",
       "      <td>First National Bank</td>\n",
       "      <td>Current account</td>\n",
       "      <td>...</td>\n",
       "      <td>Mobility - Windscreen</td>\n",
       "      <td>Windscreen</td>\n",
       "      <td>Windscreen</td>\n",
       "      <td>Comprehensive - Taxi</td>\n",
       "      <td>Motor Comprehensive</td>\n",
       "      <td>Mobility Metered Taxis: Monthly</td>\n",
       "      <td>Commercial</td>\n",
       "      <td>IFRS Constant</td>\n",
       "      <td>21.929825</td>\n",
       "      <td>0.0</td>\n",
       "    </tr>\n",
       "    <tr>\n",
       "      <th>1</th>\n",
       "      <td>145249</td>\n",
       "      <td>12827</td>\n",
       "      <td>2015-05-01 00:00:00</td>\n",
       "      <td>True</td>\n",
       "      <td></td>\n",
       "      <td>Close Corporation</td>\n",
       "      <td>Mr</td>\n",
       "      <td>English</td>\n",
       "      <td>First National Bank</td>\n",
       "      <td>Current account</td>\n",
       "      <td>...</td>\n",
       "      <td>Mobility - Windscreen</td>\n",
       "      <td>Windscreen</td>\n",
       "      <td>Windscreen</td>\n",
       "      <td>Comprehensive - Taxi</td>\n",
       "      <td>Motor Comprehensive</td>\n",
       "      <td>Mobility Metered Taxis: Monthly</td>\n",
       "      <td>Commercial</td>\n",
       "      <td>IFRS Constant</td>\n",
       "      <td>21.929825</td>\n",
       "      <td>0.0</td>\n",
       "    </tr>\n",
       "    <tr>\n",
       "      <th>2</th>\n",
       "      <td>145249</td>\n",
       "      <td>12827</td>\n",
       "      <td>2015-07-01 00:00:00</td>\n",
       "      <td>True</td>\n",
       "      <td></td>\n",
       "      <td>Close Corporation</td>\n",
       "      <td>Mr</td>\n",
       "      <td>English</td>\n",
       "      <td>First National Bank</td>\n",
       "      <td>Current account</td>\n",
       "      <td>...</td>\n",
       "      <td>Mobility - Windscreen</td>\n",
       "      <td>Windscreen</td>\n",
       "      <td>Windscreen</td>\n",
       "      <td>Comprehensive - Taxi</td>\n",
       "      <td>Motor Comprehensive</td>\n",
       "      <td>Mobility Metered Taxis: Monthly</td>\n",
       "      <td>Commercial</td>\n",
       "      <td>IFRS Constant</td>\n",
       "      <td>0.000000</td>\n",
       "      <td>0.0</td>\n",
       "    </tr>\n",
       "    <tr>\n",
       "      <th>3</th>\n",
       "      <td>145255</td>\n",
       "      <td>12827</td>\n",
       "      <td>2015-05-01 00:00:00</td>\n",
       "      <td>True</td>\n",
       "      <td></td>\n",
       "      <td>Close Corporation</td>\n",
       "      <td>Mr</td>\n",
       "      <td>English</td>\n",
       "      <td>First National Bank</td>\n",
       "      <td>Current account</td>\n",
       "      <td>...</td>\n",
       "      <td>Mobility - Metered Taxis - R2000</td>\n",
       "      <td>Own damage</td>\n",
       "      <td>Own Damage</td>\n",
       "      <td>Comprehensive - Taxi</td>\n",
       "      <td>Motor Comprehensive</td>\n",
       "      <td>Mobility Metered Taxis: Monthly</td>\n",
       "      <td>Commercial</td>\n",
       "      <td>IFRS Constant</td>\n",
       "      <td>512.848070</td>\n",
       "      <td>0.0</td>\n",
       "    </tr>\n",
       "    <tr>\n",
       "      <th>4</th>\n",
       "      <td>145255</td>\n",
       "      <td>12827</td>\n",
       "      <td>2015-07-01 00:00:00</td>\n",
       "      <td>True</td>\n",
       "      <td></td>\n",
       "      <td>Close Corporation</td>\n",
       "      <td>Mr</td>\n",
       "      <td>English</td>\n",
       "      <td>First National Bank</td>\n",
       "      <td>Current account</td>\n",
       "      <td>...</td>\n",
       "      <td>Mobility - Metered Taxis - R2000</td>\n",
       "      <td>Own damage</td>\n",
       "      <td>Own Damage</td>\n",
       "      <td>Comprehensive - Taxi</td>\n",
       "      <td>Motor Comprehensive</td>\n",
       "      <td>Mobility Metered Taxis: Monthly</td>\n",
       "      <td>Commercial</td>\n",
       "      <td>IFRS Constant</td>\n",
       "      <td>0.000000</td>\n",
       "      <td>0.0</td>\n",
       "    </tr>\n",
       "  </tbody>\n",
       "</table>\n",
       "<p>5 rows × 52 columns</p>\n",
       "</div>"
      ],
      "text/plain": [
       "   UnderwrittenCoverID  PolicyID     TransactionMonth  IsVATRegistered  \\\n",
       "0               145249     12827  2015-03-01 00:00:00             True   \n",
       "1               145249     12827  2015-05-01 00:00:00             True   \n",
       "2               145249     12827  2015-07-01 00:00:00             True   \n",
       "3               145255     12827  2015-05-01 00:00:00             True   \n",
       "4               145255     12827  2015-07-01 00:00:00             True   \n",
       "\n",
       "  Citizenship          LegalType Title Language                 Bank  \\\n",
       "0              Close Corporation    Mr  English  First National Bank   \n",
       "1              Close Corporation    Mr  English  First National Bank   \n",
       "2              Close Corporation    Mr  English  First National Bank   \n",
       "3              Close Corporation    Mr  English  First National Bank   \n",
       "4              Close Corporation    Mr  English  First National Bank   \n",
       "\n",
       "       AccountType  ...                    ExcessSelected CoverCategory  \\\n",
       "0  Current account  ...             Mobility - Windscreen    Windscreen   \n",
       "1  Current account  ...             Mobility - Windscreen    Windscreen   \n",
       "2  Current account  ...             Mobility - Windscreen    Windscreen   \n",
       "3  Current account  ...  Mobility - Metered Taxis - R2000    Own damage   \n",
       "4  Current account  ...  Mobility - Metered Taxis - R2000    Own damage   \n",
       "\n",
       "    CoverType            CoverGroup              Section  \\\n",
       "0  Windscreen  Comprehensive - Taxi  Motor Comprehensive   \n",
       "1  Windscreen  Comprehensive - Taxi  Motor Comprehensive   \n",
       "2  Windscreen  Comprehensive - Taxi  Motor Comprehensive   \n",
       "3  Own Damage  Comprehensive - Taxi  Motor Comprehensive   \n",
       "4  Own Damage  Comprehensive - Taxi  Motor Comprehensive   \n",
       "\n",
       "                           Product StatutoryClass StatutoryRiskType  \\\n",
       "0  Mobility Metered Taxis: Monthly     Commercial     IFRS Constant   \n",
       "1  Mobility Metered Taxis: Monthly     Commercial     IFRS Constant   \n",
       "2  Mobility Metered Taxis: Monthly     Commercial     IFRS Constant   \n",
       "3  Mobility Metered Taxis: Monthly     Commercial     IFRS Constant   \n",
       "4  Mobility Metered Taxis: Monthly     Commercial     IFRS Constant   \n",
       "\n",
       "   TotalPremium TotalClaims  \n",
       "0     21.929825         0.0  \n",
       "1     21.929825         0.0  \n",
       "2      0.000000         0.0  \n",
       "3    512.848070         0.0  \n",
       "4      0.000000         0.0  \n",
       "\n",
       "[5 rows x 52 columns]"
      ]
     },
     "execution_count": 3,
     "metadata": {},
     "output_type": "execute_result"
    }
   ],
   "source": [
    "# Head of the data\n",
    "data.head()"
   ]
  },
  {
   "cell_type": "code",
   "execution_count": 4,
   "metadata": {},
   "outputs": [
    {
     "name": "stdout",
     "output_type": "stream",
     "text": [
      "       TotalPremium   TotalClaims\n",
      "count  1.000098e+06  1.000098e+06\n",
      "mean   6.190550e+01  6.486119e+01\n",
      "std    2.302845e+02  2.384075e+03\n",
      "min   -7.825768e+02 -1.200241e+04\n",
      "25%    0.000000e+00  0.000000e+00\n",
      "50%    2.178333e+00  0.000000e+00\n",
      "75%    2.192982e+01  0.000000e+00\n",
      "max    6.528260e+04  3.930921e+05\n"
     ]
    }
   ],
   "source": [
    "# Calculate descriptive statistics\n",
    "descriptive_stats = data[['TotalPremium', 'TotalClaims']].describe()\n",
    "print(descriptive_stats)"
   ]
  },
  {
   "cell_type": "markdown",
   "metadata": {},
   "source": [
    "Convert columns to appropriate data types "
   ]
  },
  {
   "cell_type": "code",
   "execution_count": 5,
   "metadata": {},
   "outputs": [
    {
     "name": "stdout",
     "output_type": "stream",
     "text": [
      "UnderwrittenCoverID           int64\n",
      "PolicyID                      int64\n",
      "TransactionMonth             object\n",
      "IsVATRegistered                bool\n",
      "Citizenship                  object\n",
      "LegalType                    object\n",
      "Title                        object\n",
      "Language                     object\n",
      "Bank                         object\n",
      "AccountType                  object\n",
      "MaritalStatus                object\n",
      "Gender                       object\n",
      "Country                      object\n",
      "Province                     object\n",
      "PostalCode                    int64\n",
      "MainCrestaZone               object\n",
      "SubCrestaZone                object\n",
      "ItemType                     object\n",
      "mmcode                      float64\n",
      "VehicleType                  object\n",
      "RegistrationYear              int64\n",
      "make                         object\n",
      "Model                        object\n",
      "Cylinders                   float64\n",
      "cubiccapacity               float64\n",
      "kilowatts                   float64\n",
      "bodytype                     object\n",
      "NumberOfDoors               float64\n",
      "VehicleIntroDate             object\n",
      "CustomValueEstimate         float64\n",
      "AlarmImmobiliser             object\n",
      "TrackingDevice               object\n",
      "CapitalOutstanding           object\n",
      "NewVehicle                   object\n",
      "WrittenOff                   object\n",
      "Rebuilt                      object\n",
      "Converted                    object\n",
      "CrossBorder                  object\n",
      "NumberOfVehiclesInFleet     float64\n",
      "SumInsured                  float64\n",
      "TermFrequency                object\n",
      "CalculatedPremiumPerTerm    float64\n",
      "ExcessSelected               object\n",
      "CoverCategory                object\n",
      "CoverType                    object\n",
      "CoverGroup                   object\n",
      "Section                      object\n",
      "Product                      object\n",
      "StatutoryClass               object\n",
      "StatutoryRiskType            object\n",
      "TotalPremium                float64\n",
      "TotalClaims                 float64\n",
      "dtype: object\n"
     ]
    }
   ],
   "source": [
    "# Check data types\n",
    "print(data.dtypes)"
   ]
  },
  {
   "cell_type": "code",
   "execution_count": 6,
   "metadata": {},
   "outputs": [
    {
     "name": "stdout",
     "output_type": "stream",
     "text": [
      "      TransactionMonth VehicleIntroDate\n",
      "0  2015-03-01 00:00:00           6/2002\n",
      "1  2015-05-01 00:00:00           6/2002\n",
      "2  2015-07-01 00:00:00           6/2002\n",
      "3  2015-05-01 00:00:00           6/2002\n",
      "4  2015-07-01 00:00:00           6/2002\n"
     ]
    }
   ],
   "source": [
    "# Display the first few rows of the TransactionMonth and VehicleIntroDate columns\n",
    "print(data[['TransactionMonth', 'VehicleIntroDate']].head())"
   ]
  },
  {
   "cell_type": "code",
   "execution_count": 7,
   "metadata": {},
   "outputs": [
    {
     "name": "stdout",
     "output_type": "stream",
     "text": [
      "datetime64[ns]\n",
      "datetime64[ns]\n"
     ]
    },
    {
     "name": "stderr",
     "output_type": "stream",
     "text": [
      "C:\\Users\\Abeni\\AppData\\Local\\Temp\\ipykernel_17176\\55529882.py:3: UserWarning: Could not infer format, so each element will be parsed individually, falling back to `dateutil`. To ensure parsing is consistent and as-expected, please specify a format.\n",
      "  data['VehicleIntroDate'] = pd.to_datetime(data['VehicleIntroDate'])\n"
     ]
    }
   ],
   "source": [
    "# Convert columns to appropriate data types \n",
    "data['TransactionMonth'] = pd.to_datetime(data['TransactionMonth']) \n",
    "data['VehicleIntroDate'] = pd.to_datetime(data['VehicleIntroDate'])\n",
    "\n",
    "# Print the data types of TransactionMonth and VehicleIntroDate\n",
    "print(data['TransactionMonth'].dtype)\n",
    "print(data['VehicleIntroDate'].dtype)"
   ]
  },
  {
   "cell_type": "markdown",
   "metadata": {},
   "source": [
    "#### 3. Data Quality Assessment"
   ]
  },
  {
   "cell_type": "code",
   "execution_count": 8,
   "metadata": {},
   "outputs": [
    {
     "name": "stdout",
     "output_type": "stream",
     "text": [
      "The dataset contains 1000098 rows and 51 columns (excluding the index column).\n"
     ]
    }
   ],
   "source": [
    "# Check the size of the data without including the index column\n",
    "data_size = data.shape[1] - 1  # Subtract 1 for the index column\n",
    "print(f'The dataset contains {data.shape[0]} rows and {data_size} columns (excluding the index column).')"
   ]
  },
  {
   "cell_type": "markdown",
   "metadata": {},
   "source": [
    "Check Duplicate"
   ]
  },
  {
   "cell_type": "code",
   "execution_count": 9,
   "metadata": {},
   "outputs": [
    {
     "name": "stdout",
     "output_type": "stream",
     "text": [
      "Total duplicated rows: 0\n",
      "Duplicated columns: Index([], dtype='object')\n"
     ]
    }
   ],
   "source": [
    "# Check for duplicated rows\n",
    "duplicated_rows = data.duplicated()\n",
    "print(f'Total duplicated rows: {duplicated_rows.sum()}')\n",
    "\n",
    "# Check for duplicated columns\n",
    "duplicated_columns = data.columns[data.columns.duplicated()]\n",
    "print(f'Duplicated columns: {duplicated_columns}')"
   ]
  },
  {
   "cell_type": "markdown",
   "metadata": {},
   "source": [
    "Handling missing values"
   ]
  },
  {
   "cell_type": "code",
   "execution_count": 10,
   "metadata": {},
   "outputs": [
    {
     "name": "stdout",
     "output_type": "stream",
     "text": [
      "NumberOfVehiclesInFleet    100.000000\n",
      "CrossBorder                 99.930207\n",
      "CustomValueEstimate         77.956560\n",
      "WrittenOff                  64.183810\n",
      "Converted                   64.183810\n",
      "Rebuilt                     64.183810\n",
      "NewVehicle                  15.327998\n",
      "Bank                        14.594670\n",
      "AccountType                  4.022806\n",
      "Gender                       0.953507\n",
      "MaritalStatus                0.825819\n",
      "mmcode                       0.055195\n",
      "VehicleType                  0.055195\n",
      "make                         0.055195\n",
      "VehicleIntroDate             0.055195\n",
      "NumberOfDoors                0.055195\n",
      "bodytype                     0.055195\n",
      "kilowatts                    0.055195\n",
      "cubiccapacity                0.055195\n",
      "Cylinders                    0.055195\n",
      "Model                        0.055195\n",
      "CapitalOutstanding           0.000200\n",
      "dtype: float64\n"
     ]
    }
   ],
   "source": [
    "# Calculate the percentage of missing values for each column\n",
    "missing_percentage = data.isnull().sum() / len(data) * 100\n",
    "\n",
    "# Filter columns with missing values and sort them in descending order\n",
    "missing_columns_sorted = missing_percentage[missing_percentage > 0].sort_values(ascending=False)\n",
    "print(missing_columns_sorted)"
   ]
  },
  {
   "cell_type": "code",
   "execution_count": 11,
   "metadata": {},
   "outputs": [
    {
     "name": "stderr",
     "output_type": "stream",
     "text": [
      "C:\\Users\\Abeni\\AppData\\Local\\Temp\\ipykernel_17176\\4059181853.py:6: FutureWarning: A value is trying to be set on a copy of a DataFrame or Series through chained assignment using an inplace method.\n",
      "The behavior will change in pandas 3.0. This inplace method will never work because the intermediate object on which we are setting values always behaves as a copy.\n",
      "\n",
      "For example, when doing 'df[col].method(value, inplace=True)', try using 'df.method({col: value}, inplace=True)' or df[col] = df[col].method(value) instead, to perform the operation inplace on the original object.\n",
      "\n",
      "\n",
      "  data['NewVehicle'].fillna(data['NewVehicle'].mode()[0], inplace=True)\n",
      "C:\\Users\\Abeni\\AppData\\Local\\Temp\\ipykernel_17176\\4059181853.py:7: FutureWarning: A value is trying to be set on a copy of a DataFrame or Series through chained assignment using an inplace method.\n",
      "The behavior will change in pandas 3.0. This inplace method will never work because the intermediate object on which we are setting values always behaves as a copy.\n",
      "\n",
      "For example, when doing 'df[col].method(value, inplace=True)', try using 'df.method({col: value}, inplace=True)' or df[col] = df[col].method(value) instead, to perform the operation inplace on the original object.\n",
      "\n",
      "\n",
      "  data['Bank'].fillna('Unknown', inplace=True)\n",
      "C:\\Users\\Abeni\\AppData\\Local\\Temp\\ipykernel_17176\\4059181853.py:8: FutureWarning: A value is trying to be set on a copy of a DataFrame or Series through chained assignment using an inplace method.\n",
      "The behavior will change in pandas 3.0. This inplace method will never work because the intermediate object on which we are setting values always behaves as a copy.\n",
      "\n",
      "For example, when doing 'df[col].method(value, inplace=True)', try using 'df.method({col: value}, inplace=True)' or df[col] = df[col].method(value) instead, to perform the operation inplace on the original object.\n",
      "\n",
      "\n",
      "  data['AccountType'].fillna('Unknown', inplace=True)\n",
      "C:\\Users\\Abeni\\AppData\\Local\\Temp\\ipykernel_17176\\4059181853.py:9: FutureWarning: A value is trying to be set on a copy of a DataFrame or Series through chained assignment using an inplace method.\n",
      "The behavior will change in pandas 3.0. This inplace method will never work because the intermediate object on which we are setting values always behaves as a copy.\n",
      "\n",
      "For example, when doing 'df[col].method(value, inplace=True)', try using 'df.method({col: value}, inplace=True)' or df[col] = df[col].method(value) instead, to perform the operation inplace on the original object.\n",
      "\n",
      "\n",
      "  data['Citizenship'].fillna('Unknown', inplace=True)\n"
     ]
    },
    {
     "name": "stdout",
     "output_type": "stream",
     "text": [
      "UnderwrittenCoverID         0\n",
      "PolicyID                    0\n",
      "TransactionMonth            0\n",
      "IsVATRegistered             0\n",
      "Citizenship                 0\n",
      "LegalType                   0\n",
      "Title                       0\n",
      "Language                    0\n",
      "Bank                        0\n",
      "AccountType                 0\n",
      "MaritalStatus               0\n",
      "Gender                      0\n",
      "Country                     0\n",
      "Province                    0\n",
      "PostalCode                  0\n",
      "MainCrestaZone              0\n",
      "SubCrestaZone               0\n",
      "ItemType                    0\n",
      "mmcode                      0\n",
      "VehicleType                 0\n",
      "RegistrationYear            0\n",
      "make                        0\n",
      "Model                       0\n",
      "Cylinders                   0\n",
      "cubiccapacity               0\n",
      "kilowatts                   0\n",
      "bodytype                    0\n",
      "NumberOfDoors               0\n",
      "VehicleIntroDate            0\n",
      "AlarmImmobiliser            0\n",
      "TrackingDevice              0\n",
      "CapitalOutstanding          0\n",
      "NewVehicle                  0\n",
      "SumInsured                  0\n",
      "TermFrequency               0\n",
      "CalculatedPremiumPerTerm    0\n",
      "ExcessSelected              0\n",
      "CoverCategory               0\n",
      "CoverType                   0\n",
      "CoverGroup                  0\n",
      "Section                     0\n",
      "Product                     0\n",
      "StatutoryClass              0\n",
      "StatutoryRiskType           0\n",
      "TotalPremium                0\n",
      "TotalClaims                 0\n",
      "dtype: int64\n"
     ]
    }
   ],
   "source": [
    "# Remove columns with high missing percentages\n",
    "columns_to_remove = ['NumberOfVehiclesInFleet', 'CrossBorder', 'CustomValueEstimate', 'WrittenOff', 'Converted', 'Rebuilt']\n",
    "data = data.drop(columns=columns_to_remove)\n",
    "\n",
    "# Fill missing values for specific columns\n",
    "data['NewVehicle'].fillna(data['NewVehicle'].mode()[0], inplace=True)\n",
    "data['Bank'].fillna('Unknown', inplace=True)\n",
    "data['AccountType'].fillna('Unknown', inplace=True)\n",
    "data['Citizenship'].fillna('Unknown', inplace=True)\n",
    "\n",
    "# Remove rows with missing values in specific columns\n",
    "columns_to_check = ['Gender', 'MaritalStatus', 'mmcode', 'VehicleType', 'make', 'VehicleIntroDate', 'NumberOfDoors', 'bodytype', 'kilowatts', 'cubiccapacity', 'Cylinders', 'Model', 'CapitalOutstanding']\n",
    "data = data.dropna(subset=columns_to_check)\n",
    "\n",
    "# Verify the changes \n",
    "missing_values_after = data.isnull().sum() \n",
    "print(missing_values_after)"
   ]
  },
  {
   "cell_type": "markdown",
   "metadata": {},
   "source": [
    "Check leading or trailing whitespaces, and handling"
   ]
  },
  {
   "cell_type": "code",
   "execution_count": 12,
   "metadata": {},
   "outputs": [
    {
     "name": "stdout",
     "output_type": "stream",
     "text": [
      "Column \"Citizenship\" has 892928 values with leading or trailing whitespaces.\n",
      "Column \"make\" has 17154 values with leading or trailing whitespaces.\n",
      "Column \"CoverCategory\" has 78211 values with leading or trailing whitespaces.\n"
     ]
    }
   ],
   "source": [
    "# Check for leading or trailing whitespaces in the values of each column\n",
    "whitespace_values = {}\n",
    "for column in data.columns:\n",
    "    if data[column].dtype == 'object':  # Only check for string columns\n",
    "        whitespace_values[column] = data[column].str.contains(r'^\\s|\\s$').sum()\n",
    "\n",
    "# Display columns with leading or trailing whitespaces in their values\n",
    "for column, count in whitespace_values.items():\n",
    "    if count > 0:\n",
    "        print(f'Column \"{column}\" has {count} values with leading or trailing whitespaces.')"
   ]
  },
  {
   "cell_type": "code",
   "execution_count": 13,
   "metadata": {},
   "outputs": [
    {
     "name": "stderr",
     "output_type": "stream",
     "text": [
      "C:\\Users\\Abeni\\AppData\\Local\\Temp\\ipykernel_17176\\2095585193.py:2: FutureWarning: DataFrame.applymap has been deprecated. Use DataFrame.map instead.\n",
      "  data = data.applymap(lambda x: x.strip() if isinstance(x, str) else x)\n"
     ]
    }
   ],
   "source": [
    "# Remove leading and trailing whitespaces from all columns\n",
    "data = data.applymap(lambda x: x.strip() if isinstance(x, str) else x)"
   ]
  },
  {
   "cell_type": "code",
   "execution_count": 14,
   "metadata": {},
   "outputs": [
    {
     "name": "stdout",
     "output_type": "stream",
     "text": [
      "The dataset contains 989557 rows and 45 columns (excluding the index column).\n"
     ]
    }
   ],
   "source": [
    "# Check the size of the data without including the index column\n",
    "data_size = data.shape[1] - 1  # Subtract 1 for the index column\n",
    "print(f'The dataset contains {data.shape[0]} rows and {data_size} columns (excluding the index column).')"
   ]
  },
  {
   "cell_type": "markdown",
   "metadata": {},
   "source": [
    "Outlier Detection"
   ]
  },
  {
   "cell_type": "code",
   "execution_count": 15,
   "metadata": {},
   "outputs": [
    {
     "data": {
      "image/png": "[encoded data removed]",
      "text/plain": [
       "<Figure size 1500x600 with 2 Axes>"
      ]
     },
     "metadata": {},
     "output_type": "display_data"
    }
   ],
   "source": [
    "# Function to create a single plot with box plots for specified columns\n",
    "def plot_selected_boxplots(data, columns):\n",
    "    data[columns].plot(kind='box', subplots=True, layout=(1, len(columns)), figsize=(15, 6), sharex=False, sharey=False)\n",
    "    plt.tight_layout()\n",
    "    plt.show()\n",
    "\n",
    "# Create a single plot with box plots for 'TotalPremium' and 'TotalClaims'\n",
    "plot_selected_boxplots(data, ['TotalPremium', 'TotalClaims'])"
   ]
  },
  {
   "cell_type": "code",
   "execution_count": 16,
   "metadata": {},
   "outputs": [
    {
     "name": "stdout",
     "output_type": "stream",
     "text": [
      "Number of rows with negative values in 'TotalPremium' or 'TotalClaims': 291\n"
     ]
    }
   ],
   "source": [
    "# Count rows with negative values in 'TotalPremium' or 'TotalClaims'\n",
    "negative_values_count = data[(data['TotalPremium'] < 0) | (data['TotalClaims'] < 0)].shape[0]\n",
    "\n",
    "print(f\"Number of rows with negative values in 'TotalPremium' or 'TotalClaims': {negative_values_count}\")"
   ]
  },
  {
   "cell_type": "code",
   "execution_count": 17,
   "metadata": {},
   "outputs": [
    {
     "name": "stdout",
     "output_type": "stream",
     "text": [
      "Number of rows with negative values in 'TotalPremium' or 'TotalClaims': 0\n"
     ]
    }
   ],
   "source": [
    "# Remove rows with negative values in 'TotalPremium' or 'TotalClaims'\n",
    "data = data[(data['TotalPremium'] >= 0) & (data['TotalClaims'] >= 0)]\n",
    "\n",
    "# Count rows with negative values in 'TotalPremium' or 'TotalClaims'\n",
    "negative_values_count = data[(data['TotalPremium'] < 0) | (data['TotalClaims'] < 0)].shape[0]\n",
    "\n",
    "print(f\"Number of rows with negative values in 'TotalPremium' or 'TotalClaims': {negative_values_count}\")"
   ]
  },
  {
   "cell_type": "code",
   "execution_count": 18,
   "metadata": {},
   "outputs": [
    {
     "data": {
      "image/png": "[encoded data removed]",
      "text/plain": [
       "<Figure size 1500x600 with 2 Axes>"
      ]
     },
     "metadata": {},
     "output_type": "display_data"
    }
   ],
   "source": [
    "# Function to create a single plot with box plots for specified columns\n",
    "def plot_selected_boxplots(data, columns):\n",
    "    data[columns].plot(kind='box', subplots=True, layout=(1, len(columns)), figsize=(15, 6), sharex=False, sharey=False)\n",
    "    plt.tight_layout()\n",
    "    plt.show()\n",
    "\n",
    "# Create a single plot with box plots for 'TotalPremium' and 'TotalClaims'\n",
    "plot_selected_boxplots(data, ['TotalPremium', 'TotalClaims'])"
   ]
  },
  {
   "cell_type": "markdown",
   "metadata": {},
   "source": [
    "Check Quantile Methods"
   ]
  },
  {
   "cell_type": "code",
   "execution_count": 19,
   "metadata": {},
   "outputs": [
    {
     "name": "stdout",
     "output_type": "stream",
     "text": [
      "Number of rows that would be removed: 12374\n"
     ]
    }
   ],
   "source": [
    "# Define the quantile thresholds\n",
    "lower_quantile = 0.01\n",
    "upper_quantile = 0.99\n",
    "\n",
    "# Calculate the quantile values for 'TotalPremium' and 'TotalClaims'\n",
    "total_premium_lower = data['TotalPremium'].quantile(lower_quantile)\n",
    "total_premium_upper = data['TotalPremium'].quantile(upper_quantile)\n",
    "total_claims_lower = data['TotalClaims'].quantile(lower_quantile)\n",
    "total_claims_upper = data['TotalClaims'].quantile(upper_quantile)\n",
    "\n",
    "# Count the rows that would be removed\n",
    "rows_to_remove = data[(data['TotalPremium'] < total_premium_lower) | (data['TotalPremium'] > total_premium_upper) |\n",
    "                      (data['TotalClaims'] < total_claims_lower) | (data['TotalClaims'] > total_claims_upper)].shape[0]\n",
    "\n",
    "print(f\"Number of rows that would be removed: {rows_to_remove}\")\n"
   ]
  },
  {
   "cell_type": "code",
   "execution_count": 20,
   "metadata": {},
   "outputs": [
    {
     "name": "stdout",
     "output_type": "stream",
     "text": [
      "TotalPremium lower quantile (1%): 0.0\n",
      "TotalPremium upper quantile (99%): 778.698157894737\n",
      "TotalClaims lower quantile (1%): 0.0\n",
      "TotalClaims upper quantile (99%): 0.0\n"
     ]
    }
   ],
   "source": [
    "# Print the quantile values\n",
    "print(f\"TotalPremium lower quantile (1%): {total_premium_lower}\")\n",
    "print(f\"TotalPremium upper quantile (99%): {total_premium_upper}\")\n",
    "print(f\"TotalClaims lower quantile (1%): {total_claims_lower}\")\n",
    "print(f\"TotalClaims upper quantile (99%): {total_claims_upper}\")"
   ]
  },
  {
   "cell_type": "code",
   "execution_count": 21,
   "metadata": {},
   "outputs": [
    {
     "name": "stdout",
     "output_type": "stream",
     "text": [
      "count    989266.000000\n",
      "mean         64.513788\n",
      "std        2374.776864\n",
      "min           0.000000\n",
      "25%           0.000000\n",
      "50%           0.000000\n",
      "75%           0.000000\n",
      "max      393092.105263\n",
      "Name: TotalClaims, dtype: float64\n",
      "95th percentile of 'TotalClaims': 0.0\n",
      "99.72th percentile of 'TotalClaims': 0.0\n",
      "Number of values greater than zero in 'TotalClaims': 2760\n"
     ]
    }
   ],
   "source": [
    "# Get a summary of 'TotalClaims'\n",
    "total_claims_summary = data['TotalClaims'].describe()\n",
    "\n",
    "print(total_claims_summary)\n",
    "\n",
    "# Calculate the 95th and 99th percentiles for 'TotalClaims'\n",
    "total_claims_95th = data['TotalClaims'].quantile(0.95)\n",
    "total_claims_99th = data['TotalClaims'].quantile(0.9972)\n",
    "\n",
    "print(f\"95th percentile of 'TotalClaims': {total_claims_95th}\")\n",
    "print(f\"99.72th percentile of 'TotalClaims': {total_claims_99th}\")\n",
    "\n",
    "# Count the number of values greater than zero in 'TotalClaims'\n",
    "total_claims_greater_than_zero = data[data['TotalClaims'] > 0].shape[0]\n",
    "\n",
    "print(f\"Number of values greater than zero in 'TotalClaims': {total_claims_greater_than_zero}\")"
   ]
  },
  {
   "cell_type": "code",
   "execution_count": 51,
   "metadata": {},
   "outputs": [],
   "source": [
    "# It looks like the \"TotalClaims\" column has a significant number of zero values, as indicated by the 25th, 50th,75th, 95th, 99.72th percentiles all being zero. However, the mean value of 64.51 and the maximum value of 393,092.11 suggest that there are some non-zero values, including some very large ones.\n",
    "# Given this distribution, the quantile method might not be the best approach for handling outliers in the \"TotalClaims\" column, as it results in both the lower and upper quantiles being zero"
   ]
  },
  {
   "cell_type": "code",
   "execution_count": 22,
   "metadata": {},
   "outputs": [
    {
     "data": {
      "image/png": "[encoded data removed]",
      "text/plain": [
       "<Figure size 1000x600 with 1 Axes>"
      ]
     },
     "metadata": {},
     "output_type": "display_data"
    }
   ],
   "source": [
    "# Plot the distribution of 'TotalClaims'\n",
    "plt.figure(figsize=(10, 6))\n",
    "plt.hist(data['TotalClaims'], bins=50, edgecolor='k', alpha=0.7)\n",
    "plt.title('Distribution of TotalClaims')\n",
    "plt.xlabel('TotalClaims')\n",
    "plt.ylabel('Frequency')\n",
    "plt.grid(True)\n",
    "plt.show()"
   ]
  },
  {
   "cell_type": "markdown",
   "metadata": {},
   "source": [
    "Check IQR Methods"
   ]
  },
  {
   "cell_type": "code",
   "execution_count": 63,
   "metadata": {},
   "outputs": [
    {
     "name": "stdout",
     "output_type": "stream",
     "text": [
      "Number of outliers in 'TotalPremium': 206450\n",
      "Number of outliers in 'TotalClaims': 2760\n"
     ]
    }
   ],
   "source": [
    "# Function to calculate IQR and count outliers\n",
    "def count_outliers_iqr(data, column):\n",
    "    Q1 = data[column].quantile(0.25)\n",
    "    Q3 = data[column].quantile(0.75)\n",
    "    IQR = Q3 - Q1\n",
    "    lower_bound = Q1 - 1.5 * IQR\n",
    "    upper_bound = Q3 + 1.5 * IQR\n",
    "    outliers = data[(data[column] < lower_bound) | (data[column] > upper_bound)]\n",
    "    return outliers.shape[0]\n",
    "\n",
    "# Count outliers for 'TotalPremium' and 'TotalClaims'\n",
    "total_premium_outliers = count_outliers_iqr(data, 'TotalPremium')\n",
    "total_claims_outliers = count_outliers_iqr(data, 'TotalClaims')\n",
    "\n",
    "print(f\"Number of outliers in 'TotalPremium': {total_premium_outliers}\")\n",
    "print(f\"Number of outliers in 'TotalClaims': {total_claims_outliers}\")"
   ]
  },
  {
   "cell_type": "code",
   "execution_count": 55,
   "metadata": {},
   "outputs": [],
   "source": [
    "# It looks like the IQR method identified a significant number of outliers in both \"TotalPremium\" and \"TotalClaims\". This method is more aggressive in identifying outliers compared to the quantile method."
   ]
  },
  {
   "cell_type": "code",
   "execution_count": 23,
   "metadata": {},
   "outputs": [
    {
     "data": {
      "text/plain": [
       "(989266, 46)"
      ]
     },
     "execution_count": 23,
     "metadata": {},
     "output_type": "execute_result"
    }
   ],
   "source": [
    "data.shape"
   ]
  },
  {
   "cell_type": "markdown",
   "metadata": {},
   "source": [
    "Save the cleaned data"
   ]
  },
  {
   "cell_type": "code",
   "execution_count": 24,
   "metadata": {},
   "outputs": [
    {
     "name": "stdout",
     "output_type": "stream",
     "text": [
      "Cleaned data saved to ../src/data/cleaned_data.csv\n"
     ]
    }
   ],
   "source": [
    "# Define the path to save the cleaned data\n",
    "cleaned_data_path = '../src/data/cleaned_data.csv'\n",
    "\n",
    "# Save the cleaned data to the specified path\n",
    "data.to_csv(cleaned_data_path, index=False)\n",
    "\n",
    "print(f\"Cleaned data saved to {cleaned_data_path}\")\n"
   ]
  }
 ],
 "metadata": {
  "kernelspec": {
   "display_name": ".venv",
   "language": "python",
   "name": "python3"
  },
  "language_info": {
   "codemirror_mode": {
    "name": "ipython",
    "version": 3
   },
   "file_extension": ".py",
   "mimetype": "text/x-python",
   "name": "python",
   "nbconvert_exporter": "python",
   "pygments_lexer": "ipython3",
   "version": "3.12.7"
  }
 },
 "nbformat": 4,
 "nbformat_minor": 2
}
